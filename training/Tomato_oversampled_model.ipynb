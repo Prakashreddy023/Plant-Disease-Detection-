{
 "cells": [
  {
   "cell_type": "code",
   "execution_count": 1,
   "id": "30628e96-86b4-4a8a-9d89-71b61af27296",
   "metadata": {},
   "outputs": [],
   "source": [
    "import matplotlib.pyplot as plt\n",
    "import tensorflow as tf\n",
    "from tensorflow.keras import layers,models\n",
    "import numpy as np"
   ]
  },
  {
   "cell_type": "code",
   "execution_count": 69,
   "id": "53d55d38-5d1d-4088-b127-e7a24db3c68a",
   "metadata": {},
   "outputs": [],
   "source": [
    "IMAGE_SIZE=128\n",
    "BATCH_SIZE=8\n",
    "EPOCHS=20\n",
    "CHANNELS=3"
   ]
  },
  {
   "cell_type": "code",
   "execution_count": 45,
   "id": "e2de8c42-da87-409b-bd7b-eb98af628c54",
   "metadata": {},
   "outputs": [
    {
     "name": "stdout",
     "output_type": "stream",
     "text": [
      "Class distribution: {'Tomato_Bacterial_spot': 2246, 'Tomato_Early_blight': 2246, 'Tomato_Late_blight': 2246, 'Tomato_Leaf_Mold': 2246, 'Tomato_Septoria_leaf_spot': 2246, 'Tomato_Spider_mites_Two_spotted_spider': 2246, 'Tomato__Target_Spot': 2246, 'Tomato__Tomato_YellowLeaf__Curl_Virus': 2246, 'Tomato__Tomato_mosaic_virus': 2246, 'Tomato_healthy': 2246}\n",
      "Total samples: 22460\n"
     ]
    }
   ],
   "source": [
    "from collections import Counter\n",
    "import os\n",
    "\n",
    "train_dir = 'dataset_tomato_classified_oversampled/oversampled_train'\n",
    "class_names = ['Tomato_Bacterial_spot',\n",
    " 'Tomato_Early_blight',\n",
    " 'Tomato_Late_blight',\n",
    " 'Tomato_Leaf_Mold',\n",
    " 'Tomato_Septoria_leaf_spot',\n",
    " 'Tomato_Spider_mites_Two_spotted_spider',\n",
    " 'Tomato__Target_Spot',\n",
    " 'Tomato__Tomato_YellowLeaf__Curl_Virus',\n",
    " 'Tomato__Tomato_mosaic_virus',\n",
    " 'Tomato_healthy']\n",
    "class_counts = {}\n",
    "\n",
    "for class_name in class_names:\n",
    "    class_path = os.path.join(train_dir, class_name)\n",
    "    class_counts[class_name] = len(os.listdir(class_path))\n",
    "\n",
    "print(\"Class distribution:\", class_counts)\n",
    "print(\"Total samples:\", sum(class_counts.values()))"
   ]
  },
  {
   "cell_type": "code",
   "execution_count": 49,
   "id": "31861faf-42f6-4c00-b390-78fea2f3b40a",
   "metadata": {},
   "outputs": [
    {
     "name": "stdout",
     "output_type": "stream",
     "text": [
      "Found 22459 images belonging to 10 classes.\n"
     ]
    }
   ],
   "source": [
    "from tensorflow.keras.preprocessing.image import ImageDataGenerator\n",
    "\n",
    "train_datagen = ImageDataGenerator(\n",
    "        rescale=1./255,\n",
    "        rotation_range=10,\n",
    "        horizontal_flip=True\n",
    ")\n",
    "train_generator = train_datagen.flow_from_directory(\n",
    "        'dataset_tomato_classified_oversampled/oversampled_train',\n",
    "        target_size=(IMAGE_SIZE,IMAGE_SIZE),\n",
    "        batch_size=BATCH_SIZE,\n",
    "        class_mode=\"sparse\",\n",
    "#         save_to_dir=\"C:\\\\Code\\\\potato-disease-classification\\\\training\\\\AugmentedImages\"\n",
    ")"
   ]
  },
  {
   "cell_type": "code",
   "execution_count": 51,
   "id": "9efcc7d8-709e-4148-b20e-18ab65749692",
   "metadata": {},
   "outputs": [
    {
     "data": {
      "text/plain": [
       "{'Tomato_Bacterial_spot': 0,\n",
       " 'Tomato_Early_blight': 1,\n",
       " 'Tomato_Late_blight': 2,\n",
       " 'Tomato_Leaf_Mold': 3,\n",
       " 'Tomato_Septoria_leaf_spot': 4,\n",
       " 'Tomato_Spider_mites_Two_spotted_spider': 5,\n",
       " 'Tomato__Target_Spot': 6,\n",
       " 'Tomato__Tomato_YellowLeaf__Curl_Virus': 7,\n",
       " 'Tomato__Tomato_mosaic_virus': 8,\n",
       " 'Tomato_healthy': 9}"
      ]
     },
     "execution_count": 51,
     "metadata": {},
     "output_type": "execute_result"
    }
   ],
   "source": [
    "train_generator.class_indices\n"
   ]
  },
  {
   "cell_type": "code",
   "execution_count": 53,
   "id": "ced608cb-ba45-44c5-a3fe-172e53fdd4a0",
   "metadata": {},
   "outputs": [
    {
     "data": {
      "text/plain": [
       "['Tomato_Bacterial_spot',\n",
       " 'Tomato_Early_blight',\n",
       " 'Tomato_Late_blight',\n",
       " 'Tomato_Leaf_Mold',\n",
       " 'Tomato_Septoria_leaf_spot',\n",
       " 'Tomato_Spider_mites_Two_spotted_spider',\n",
       " 'Tomato__Target_Spot',\n",
       " 'Tomato__Tomato_YellowLeaf__Curl_Virus',\n",
       " 'Tomato__Tomato_mosaic_virus',\n",
       " 'Tomato_healthy']"
      ]
     },
     "execution_count": 53,
     "metadata": {},
     "output_type": "execute_result"
    }
   ],
   "source": [
    "class_names = list(train_generator.class_indices.keys())\n",
    "class_names"
   ]
  },
  {
   "cell_type": "code",
   "execution_count": 55,
   "id": "148b017c-19b9-4525-935c-7f410bcb2b25",
   "metadata": {},
   "outputs": [
    {
     "name": "stdout",
     "output_type": "stream",
     "text": [
      "[[[0.52118593 0.47412714 0.47412714]\n",
      "  [0.5210205  0.47396162 0.47396162]\n",
      "  [0.52044487 0.4733861  0.4733861 ]\n",
      "  ...\n",
      "  [0.47191826 0.44838884 0.45623198]\n",
      "  [0.29853845 0.27500904 0.28285217]\n",
      "  [0.4265489  0.4030195  0.41086262]]\n",
      "\n",
      " [[0.46687847 0.41981962 0.41981962]\n",
      "  [0.474936   0.4278772  0.4278772 ]\n",
      "  [0.4829935  0.4359347  0.4359347 ]\n",
      "  ...\n",
      "  [0.44601908 0.42248967 0.4303328 ]\n",
      "  [0.31753114 0.29400173 0.30184487]\n",
      "  [0.42416182 0.40063238 0.40847555]]\n",
      "\n",
      " [[0.54394627 0.49688745 0.49688745]\n",
      "  [0.53243554 0.4853767  0.4853767 ]\n",
      "  [0.5209248  0.47386596 0.47386596]\n",
      "  ...\n",
      "  [0.42011994 0.39659053 0.40443367]\n",
      "  [0.3365239  0.31299445 0.3208376 ]\n",
      "  [0.42070857 0.39717916 0.4050223 ]]\n",
      "\n",
      " ...\n",
      "\n",
      " [[0.68175656 0.6621487  0.650384  ]\n",
      "  [0.6693194  0.64971155 0.63794684]\n",
      "  [0.6832397  0.66363186 0.65186715]\n",
      "  ...\n",
      "  [0.55321044 0.5453673  0.557132  ]\n",
      "  [0.562419   0.55457586 0.56634057]\n",
      "  [0.5716276  0.5637845  0.5755492 ]]\n",
      "\n",
      " [[0.68808746 0.6684796  0.6567149 ]\n",
      "  [0.66413957 0.6445317  0.632767  ]\n",
      "  [0.6884195  0.6688117  0.657047  ]\n",
      "  ...\n",
      "  [0.5307956  0.52295244 0.53471714]\n",
      "  [0.5204359  0.5125928  0.5243575 ]\n",
      "  [0.5100762  0.5022331  0.5139978 ]]\n",
      "\n",
      " [[0.6938716  0.6742638  0.66249907]\n",
      "  [0.6589597  0.63935184 0.62758714]\n",
      "  [0.69359934 0.6739915  0.6622268 ]\n",
      "  ...\n",
      "  [0.5758973  0.56805414 0.57981884]\n",
      "  [0.5781994  0.57035625 0.58212095]\n",
      "  [0.57990015 0.572057   0.5838217 ]]]\n"
     ]
    }
   ],
   "source": [
    "count=0\n",
    "for image_batch, label_batch in train_generator:\n",
    "#     print(label_batch)\n",
    "    print(image_batch[0])\n",
    "    break\n",
    "#     count+=1\n",
    "#     if count>2:\n",
    "#         break"
   ]
  },
  {
   "cell_type": "code",
   "execution_count": 59,
   "id": "b535c37a-c5a1-40da-a86f-8c5c8d5e33dd",
   "metadata": {},
   "outputs": [
    {
     "name": "stdout",
     "output_type": "stream",
     "text": [
      "Found 1597 images belonging to 10 classes.\n"
     ]
    }
   ],
   "source": [
    "validation_datagen = ImageDataGenerator(\n",
    "        rescale=1./255,\n",
    "        rotation_range=10,\n",
    "        horizontal_flip=True)\n",
    "validation_generator = validation_datagen.flow_from_directory(\n",
    "        'dataset_tomato_classified_oversampled/val',\n",
    "        target_size=(IMAGE_SIZE,IMAGE_SIZE),\n",
    "        batch_size=BATCH_SIZE,\n",
    "        class_mode=\"sparse\"\n",
    ")"
   ]
  },
  {
   "cell_type": "code",
   "execution_count": 61,
   "id": "08464a7d-44f7-4660-97f5-42511a2c61a3",
   "metadata": {},
   "outputs": [
    {
     "name": "stdout",
     "output_type": "stream",
     "text": [
      "Found 3211 images belonging to 10 classes.\n"
     ]
    }
   ],
   "source": [
    "test_datagen = ImageDataGenerator(\n",
    "        rescale=1./255,\n",
    "        rotation_range=10,\n",
    "        horizontal_flip=True)\n",
    "\n",
    "test_generator = test_datagen.flow_from_directory(\n",
    "        'dataset_tomato_classified_oversampled//test',\n",
    "        target_size=(IMAGE_SIZE,IMAGE_SIZE),\n",
    "        batch_size=BATCH_SIZE,\n",
    "        class_mode=\"sparse\"\n",
    ")"
   ]
  },
  {
   "cell_type": "code",
   "execution_count": 75,
   "id": "f24c648a-2931-48b6-ad02-55a1ea3af96c",
   "metadata": {},
   "outputs": [
    {
     "name": "stdout",
     "output_type": "stream",
     "text": [
      "Model: \"sequential_2\"\n",
      "_________________________________________________________________\n",
      " Layer (type)                Output Shape              Param #   \n",
      "=================================================================\n",
      " conv2d_12 (Conv2D)          (None, 128, 128, 32)      896       \n",
      "                                                                 \n",
      " max_pooling2d_12 (MaxPoolin  (None, 64, 64, 32)       0         \n",
      " g2D)                                                            \n",
      "                                                                 \n",
      " conv2d_13 (Conv2D)          (None, 64, 64, 64)        18496     \n",
      "                                                                 \n",
      " max_pooling2d_13 (MaxPoolin  (None, 32, 32, 64)       0         \n",
      " g2D)                                                            \n",
      "                                                                 \n",
      " conv2d_14 (Conv2D)          (None, 32, 32, 64)        36928     \n",
      "                                                                 \n",
      " max_pooling2d_14 (MaxPoolin  (None, 16, 16, 64)       0         \n",
      " g2D)                                                            \n",
      "                                                                 \n",
      " conv2d_15 (Conv2D)          (None, 16, 16, 64)        36928     \n",
      "                                                                 \n",
      " flatten_2 (Flatten)         (None, 16384)             0         \n",
      "                                                                 \n",
      " dense_4 (Dense)             (None, 64)                1048640   \n",
      "                                                                 \n",
      " dense_5 (Dense)             (None, 10)                650       \n",
      "                                                                 \n",
      "=================================================================\n",
      "Total params: 1,142,538\n",
      "Trainable params: 1,142,538\n",
      "Non-trainable params: 0\n",
      "_________________________________________________________________\n"
     ]
    }
   ],
   "source": [
    "# Define input shape (adjust IMAGE_SIZE as needed)\n",
    "IMAGE_SIZE = 128  # Increase if needed based on your data\n",
    "CHANNELS = 3      # Assuming RGB images\n",
    "input_shape = (IMAGE_SIZE, IMAGE_SIZE, CHANNELS)\n",
    "n_classes = 10\n",
    "\n",
    "model = models.Sequential([\n",
    "    layers.Conv2D(32, kernel_size=(3, 3), activation='relu', input_shape=input_shape, padding='same'),\n",
    "    layers.MaxPooling2D((2, 2)),\n",
    "    layers.Conv2D(64, kernel_size=(3, 3), activation='relu', padding='same'),\n",
    "    layers.MaxPooling2D((2, 2)),\n",
    "    layers.Conv2D(64, kernel_size=(3, 3), activation='relu', padding='same'),\n",
    "    layers.MaxPooling2D((2, 2)),\n",
    "    layers.Conv2D(64, kernel_size=(3, 3), activation='relu', padding='same'),\n",
    "    layers.Flatten(),  # Removed extra pooling layers\n",
    "    layers.Dense(64, activation='relu'),\n",
    "    layers.Dense(n_classes, activation='softmax'),\n",
    "])\n",
    "\n",
    "model.summary()"
   ]
  },
  {
   "cell_type": "code",
   "execution_count": 77,
   "id": "581b4882-6ec8-49ca-b749-448706cca7af",
   "metadata": {},
   "outputs": [],
   "source": [
    "model.compile(\n",
    "    optimizer='adam',\n",
    "    loss=tf.keras.losses.SparseCategoricalCrossentropy(from_logits=False),\n",
    "    metrics=['accuracy']\n",
    ")"
   ]
  },
  {
   "cell_type": "code",
   "execution_count": 89,
   "id": "2a9d6e59-ae99-4e1e-86ff-ea23de7692a7",
   "metadata": {},
   "outputs": [],
   "source": [
    "steps_per_epoch = len(train_generator)\n",
    "validation_steps = len(validation_generator)"
   ]
  },
  {
   "cell_type": "code",
   "execution_count": 91,
   "id": "cd62d776-ebee-458c-a53a-73a2652e7ac5",
   "metadata": {},
   "outputs": [
    {
     "data": {
      "text/plain": [
       "2808"
      ]
     },
     "execution_count": 91,
     "metadata": {},
     "output_type": "execute_result"
    }
   ],
   "source": [
    "steps_per_epoch"
   ]
  },
  {
   "cell_type": "code",
   "execution_count": 93,
   "id": "eefd6e61-7449-48a8-a7b2-602f22b816cc",
   "metadata": {},
   "outputs": [
    {
     "data": {
      "text/plain": [
       "200"
      ]
     },
     "execution_count": 93,
     "metadata": {},
     "output_type": "execute_result"
    }
   ],
   "source": [
    "validation_steps"
   ]
  },
  {
   "cell_type": "code",
   "execution_count": 85,
   "id": "27955e16-16c5-499a-886b-ea17ec75e5c9",
   "metadata": {},
   "outputs": [],
   "source": [
    "# Calculate steps per epoch\n",
    "steps_per_epoch = train_generator.samples // BATCH_SIZE\n",
    "validation_steps = validation_generator.samples // BATCH_SIZE\n"
   ]
  },
  {
   "cell_type": "code",
   "execution_count": 99,
   "id": "aeb8cac1-5ead-4168-92a0-a8cab57eea2f",
   "metadata": {},
   "outputs": [
    {
     "name": "stdout",
     "output_type": "stream",
     "text": [
      "Epoch 1/20\n",
      "2808/2808 [==============================] - 823s 289ms/step - loss: 0.9039 - accuracy: 0.6826 - val_loss: 0.4104 - val_accuracy: 0.8585\n",
      "Epoch 2/20\n",
      "2808/2808 [==============================] - 382s 136ms/step - loss: 0.3812 - accuracy: 0.8674 - val_loss: 0.3247 - val_accuracy: 0.8898\n",
      "Epoch 3/20\n",
      "2808/2808 [==============================] - 218s 77ms/step - loss: 0.2716 - accuracy: 0.9065 - val_loss: 0.2552 - val_accuracy: 0.9117\n",
      "Epoch 4/20\n",
      "2808/2808 [==============================] - 197s 70ms/step - loss: 0.1995 - accuracy: 0.9309 - val_loss: 0.2164 - val_accuracy: 0.9292\n",
      "Epoch 5/20\n",
      "2808/2808 [==============================] - 209s 74ms/step - loss: 0.1680 - accuracy: 0.9441 - val_loss: 0.3542 - val_accuracy: 0.8923\n",
      "Epoch 6/20\n",
      "2808/2808 [==============================] - 198s 71ms/step - loss: 0.1467 - accuracy: 0.9489 - val_loss: 0.2144 - val_accuracy: 0.9330\n",
      "Epoch 7/20\n",
      "2808/2808 [==============================] - 186s 66ms/step - loss: 0.1339 - accuracy: 0.9559 - val_loss: 0.2225 - val_accuracy: 0.9374\n",
      "Epoch 8/20\n",
      "2808/2808 [==============================] - 179s 64ms/step - loss: 0.1131 - accuracy: 0.9619 - val_loss: 0.2181 - val_accuracy: 0.9380\n",
      "Epoch 9/20\n",
      "2808/2808 [==============================] - 179s 64ms/step - loss: 0.0953 - accuracy: 0.9676 - val_loss: 0.2327 - val_accuracy: 0.9399\n",
      "Epoch 10/20\n",
      "2808/2808 [==============================] - 187s 66ms/step - loss: 0.1002 - accuracy: 0.9671 - val_loss: 0.3175 - val_accuracy: 0.9161\n",
      "Epoch 11/20\n",
      "2808/2808 [==============================] - 213s 76ms/step - loss: 0.0889 - accuracy: 0.9715 - val_loss: 0.4096 - val_accuracy: 0.9117\n",
      "Epoch 12/20\n",
      "2808/2808 [==============================] - 182s 65ms/step - loss: 0.0828 - accuracy: 0.9719 - val_loss: 0.2605 - val_accuracy: 0.9305\n",
      "Epoch 13/20\n",
      "2808/2808 [==============================] - 178s 63ms/step - loss: 0.0806 - accuracy: 0.9752 - val_loss: 0.3329 - val_accuracy: 0.9155\n",
      "Epoch 14/20\n",
      "2808/2808 [==============================] - 182s 65ms/step - loss: 0.0835 - accuracy: 0.9739 - val_loss: 0.2651 - val_accuracy: 0.9361\n",
      "Epoch 15/20\n",
      "2808/2808 [==============================] - 182s 65ms/step - loss: 0.0727 - accuracy: 0.9776 - val_loss: 0.3361 - val_accuracy: 0.9286\n",
      "Epoch 16/20\n",
      "2808/2808 [==============================] - 182s 65ms/step - loss: 0.0708 - accuracy: 0.9783 - val_loss: 0.4307 - val_accuracy: 0.9073\n",
      "Epoch 17/20\n",
      "2808/2808 [==============================] - 181s 64ms/step - loss: 0.0684 - accuracy: 0.9794 - val_loss: 0.3918 - val_accuracy: 0.9111\n",
      "Epoch 18/20\n",
      "2808/2808 [==============================] - 185s 66ms/step - loss: 0.0732 - accuracy: 0.9780 - val_loss: 0.4312 - val_accuracy: 0.9023\n",
      "Epoch 19/20\n",
      "2808/2808 [==============================] - 210s 75ms/step - loss: 0.0669 - accuracy: 0.9801 - val_loss: 0.5712 - val_accuracy: 0.8666\n",
      "Epoch 20/20\n",
      "2808/2808 [==============================] - 2921s 1s/step - loss: 0.0662 - accuracy: 0.9788 - val_loss: 0.2438 - val_accuracy: 0.9399\n"
     ]
    }
   ],
   "source": [
    "history = model.fit(\n",
    "    train_generator,\n",
    "    steps_per_epoch=2808,\n",
    "    batch_size=BATCH_SIZE,\n",
    "    validation_data=validation_generator,\n",
    "    validation_steps=200,\n",
    "    verbose=1,\n",
    "    epochs=20,\n",
    ")"
   ]
  },
  {
   "cell_type": "code",
   "execution_count": 100,
   "id": "e15d6724-46c9-4165-a5a4-8778e5d27a19",
   "metadata": {},
   "outputs": [
    {
     "name": "stdout",
     "output_type": "stream",
     "text": [
      "402/402 [==============================] - 68s 170ms/step - loss: 0.3613 - accuracy: 0.9377\n"
     ]
    }
   ],
   "source": [
    "scores = model.evaluate(test_generator)"
   ]
  },
  {
   "cell_type": "code",
   "execution_count": 101,
   "id": "c2ca8351-0fb7-4fe1-aabb-00de08db06b2",
   "metadata": {},
   "outputs": [],
   "source": [
    "# Save the model in HDF5 format\n",
    "model.save('tomato_oversampled.h5')"
   ]
  },
  {
   "cell_type": "code",
   "execution_count": null,
   "id": "cc02882e-be34-47be-80b6-162212e68572",
   "metadata": {},
   "outputs": [],
   "source": []
  }
 ],
 "metadata": {
  "kernelspec": {
   "display_name": "Python [conda env:trail_gpu]",
   "language": "python",
   "name": "conda-env-trail_gpu-py"
  },
  "language_info": {
   "codemirror_mode": {
    "name": "ipython",
    "version": 3
   },
   "file_extension": ".py",
   "mimetype": "text/x-python",
   "name": "python",
   "nbconvert_exporter": "python",
   "pygments_lexer": "ipython3",
   "version": "3.10.16"
  }
 },
 "nbformat": 4,
 "nbformat_minor": 5
}
